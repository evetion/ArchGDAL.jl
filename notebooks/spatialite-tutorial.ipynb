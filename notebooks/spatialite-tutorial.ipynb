{
 "cells": [
  {
   "cell_type": "markdown",
   "metadata": {},
   "source": [
    "follows http://www.gaia-gis.it/gaia-sins/spatialite-tutorial-2.3.1.html"
   ]
  },
  {
   "cell_type": "code",
   "execution_count": 1,
   "metadata": {
    "collapsed": false,
    "scrolled": true
   },
   "outputs": [
    {
     "data": {
      "text/plain": [
       "ArchGDAL"
      ]
     },
     "execution_count": 1,
     "metadata": {},
     "output_type": "execute_result"
    }
   ],
   "source": [
    "import ArchGDAL; const AG = ArchGDAL"
   ]
  },
  {
   "cell_type": "code",
   "execution_count": 20,
   "metadata": {
    "collapsed": false
   },
   "outputs": [
    {
     "name": "stdout",
     "output_type": "stream",
     "text": [
      "GDAL Dataset (Driver: SQLite/SQLite / Spatialite)\n",
      "File(s): ../test/spatialite/test-2.3.sqlite \n",
      "Number of feature layers: 3\n",
      "  Layer 0: Towns (wkbPoint), nfeatures = 8101\n",
      "  Layer 1: HighWays (wkbLineString), nfeatures = 775\n",
      "  Layer 2: Regions (wkbMultiPolygon), nfeatures = 109\n"
     ]
    }
   ],
   "source": [
    "AG.registerdrivers() do\n",
    "    AG.read(\"../test/spatialite/test-2.3.sqlite\") do dataset\n",
    "        print(dataset)\n",
    "    end\n",
    "end;"
   ]
  },
  {
   "cell_type": "code",
   "execution_count": 7,
   "metadata": {
    "collapsed": false
   },
   "outputs": [
    {
     "data": {
      "text/plain": [
       "inspect (generic function with 3 methods)"
      ]
     },
     "execution_count": 7,
     "metadata": {},
     "output_type": "execute_result"
    }
   ],
   "source": [
    "function inspect(query, filename=\"../test/spatialite/test-2.3.sqlite\")\n",
    "    AG.registerdrivers() do\n",
    "        AG.read(filename) do dataset\n",
    "            AG.executesql(dataset, query) do results\n",
    "                print(results)\n",
    "            end\n",
    "        end\n",
    "    end\n",
    "end"
   ]
  },
  {
   "cell_type": "code",
   "execution_count": 8,
   "metadata": {
    "collapsed": false
   },
   "outputs": [
    {
     "name": "stdout",
     "output_type": "stream",
     "text": [
      "Layer: SELECT, nfeatures = 5\n",
      "  Geometry 0 (Geometry): [wkbUnknown], POINT (427002.77 499...), ...\n",
      "     Field 0 (PK_UID): [OFTInteger], 1, 2, 3, 4, 5\n",
      "     Field 1 (Name): [OFTString], Brozolo, Campiglione-Fenile, Canischio, ...\n",
      "     Field 2 (Peoples): [OFTInteger], 435, 1284, 274, 2281, 1674\n",
      "     Field 3 (LocalCounc): [OFTInteger], 1, 1, 1, 1, 1\n",
      "     Field 4 (County): [OFTInteger], 0, 0, 0, 0, 0\n",
      "...\n",
      " Number of Fields: 6"
     ]
    }
   ],
   "source": [
    "inspect(\"SELECT * FROM towns LIMIT 5\")"
   ]
  },
  {
   "cell_type": "code",
   "execution_count": 9,
   "metadata": {
    "collapsed": false
   },
   "outputs": [
    {
     "name": "stdout",
     "output_type": "stream",
     "text": [
      "Layer: SELECT, nfeatures = 8\n",
      "     Field 0 (Name): [OFTString], Roma, Milano, Napoli, Torino, Palermo, ...\n",
      "     Field 1 (Peoples): [OFTInteger], 2546804, 1256211, 1004500, 865263, ...\n"
     ]
    },
    {
     "data": {
      "text/plain": [
       "false"
      ]
     },
     "execution_count": 9,
     "metadata": {},
     "output_type": "execute_result"
    }
   ],
   "source": [
    "inspect(\"\"\"select name, peoples from towns\n",
    "           WHERE peoples > 350000 order by peoples DESC\"\"\")"
   ]
  },
  {
   "cell_type": "code",
   "execution_count": 10,
   "metadata": {
    "collapsed": false
   },
   "outputs": [
    {
     "name": "stdout",
     "output_type": "stream",
     "text": [
      "Layer: SELECT, nfeatures = 1\n",
      "     Field 0 (# Towns): [OFTInteger], 8101\n",
      "     Field 1 (Smaller): [OFTInteger], 33\n",
      "     Field 2 (Bigger): [OFTInteger], 2546804\n",
      "     Field 3 (Total peoples): [OFTInteger], 57006147\n",
      "     Field 4 (mean peoples for town): [OFTInteger], 7036\n"
     ]
    },
    {
     "data": {
      "text/plain": [
       "false"
      ]
     },
     "execution_count": 10,
     "metadata": {},
     "output_type": "execute_result"
    }
   ],
   "source": [
    "inspect(\"\"\"\n",
    "select COUNT(*) as '# Towns',\n",
    "    MIN(peoples) as Smaller,\n",
    "    MAX(peoples) as Bigger,\n",
    "    SUM(peoples) as 'Total peoples',\n",
    "    SUM(peoples) / COUNT(*) as 'mean peoples for town'\n",
    "from towns\n",
    "\"\"\")"
   ]
  },
  {
   "cell_type": "code",
   "execution_count": 11,
   "metadata": {
    "collapsed": false
   },
   "outputs": [
    {
     "name": "stdout",
     "output_type": "stream",
     "text": [
      "Layer: SELECT, nfeatures = 1\n",
      "     Field 0 (Number): [OFTInteger], -2\n",
      "     Field 1 (AbsoluteValue): [OFTInteger], 2\n"
     ]
    },
    {
     "data": {
      "text/plain": [
       "false"
      ]
     },
     "execution_count": 11,
     "metadata": {},
     "output_type": "execute_result"
    }
   ],
   "source": [
    "inspect(\"\"\"\n",
    "select (10 - 11) * 2 as Number, ABS((10 - 11) * 2) as AbsoluteValue\n",
    "\"\"\")"
   ]
  },
  {
   "cell_type": "code",
   "execution_count": 12,
   "metadata": {
    "collapsed": false
   },
   "outputs": [
    {
     "name": "stdout",
     "output_type": "stream",
     "text": [
      "Layer: SELECT, nfeatures = 8\n",
      "     Field 0 (Name): [OFTString], Roma, Milano, Napoli, Torino, Palermo, ...\n",
      "     Field 1 (Peoples): [OFTInteger], 2546804, 1256211, 1004500, 865263, ...\n",
      "     Field 2 (HEX(Geometry)): [OFTString], 0001787F00003D0AD723..., ...\n"
     ]
    },
    {
     "data": {
      "text/plain": [
       "false"
      ]
     },
     "execution_count": 12,
     "metadata": {},
     "output_type": "execute_result"
    }
   ],
   "source": [
    "inspect(\"\"\"\n",
    "select name, peoples, HEX(Geometry)\n",
    "from Towns where peoples > 350000 order by peoples DESC\n",
    "\"\"\")"
   ]
  },
  {
   "cell_type": "code",
   "execution_count": 13,
   "metadata": {
    "collapsed": false
   },
   "outputs": [
    {
     "name": "stdout",
     "output_type": "stream",
     "text": [
      "Layer: SELECT, nfeatures = 8\n",
      "  Geometry 0 (AsText(Geometry)): [wkbUnknown], POINT (788703.57 464...), ...\n",
      "     Field 0 (Name): [OFTString], Roma, Milano, Napoli, Torino, Palermo, ...\n",
      "     Field 1 (Peoples): [OFTInteger], 2546804, 1256211, 1004500, 865263, ...\n"
     ]
    },
    {
     "data": {
      "text/plain": [
       "false"
      ]
     },
     "execution_count": 13,
     "metadata": {},
     "output_type": "execute_result"
    }
   ],
   "source": [
    "inspect(\"\"\"\n",
    "SELECT name, peoples, AsText(Geometry)\n",
    "from Towns where peoples > 350000 order by peoples DESC\n",
    "\"\"\")"
   ]
  },
  {
   "cell_type": "code",
   "execution_count": 14,
   "metadata": {
    "collapsed": false
   },
   "outputs": [
    {
     "name": "stdout",
     "output_type": "stream",
     "text": [
      "Layer: SELECT, nfeatures = 8\n",
      "     Field 0 (Name): [OFTString], Roma, Milano, Napoli, Torino, Palermo, ...\n",
      "     Field 1 (X(Geometry)): [OFTReal], 788703.57, 514820.49, 942636.1, ...\n",
      "     Field 2 (Y(Geometry)): [OFTReal], 4.6456363e6, 5.03453456e6, ...\n"
     ]
    },
    {
     "data": {
      "text/plain": [
       "false"
      ]
     },
     "execution_count": 14,
     "metadata": {},
     "output_type": "execute_result"
    }
   ],
   "source": [
    "inspect(\"\"\"\n",
    "SELECT name, X(Geometry), Y(Geometry) FROM Towns\n",
    "WHERE peoples > 350000 \n",
    "ORDER BY peoples DESC\n",
    "\"\"\")"
   ]
  },
  {
   "cell_type": "code",
   "execution_count": 15,
   "metadata": {
    "collapsed": false
   },
   "outputs": [
    {
     "name": "stdout",
     "output_type": "stream",
     "text": [
      "Layer: SELECT, nfeatures = 1\n",
      "     Field 0 (HEX(GeomFromText('POINT(10 20)'))): [OFTString], ...\n"
     ]
    },
    {
     "data": {
      "text/plain": [
       "false"
      ]
     },
     "execution_count": 15,
     "metadata": {},
     "output_type": "execute_result"
    }
   ],
   "source": [
    "inspect(\"SELECT HEX(GeomFromText('POINT(10 20)'))\")"
   ]
  },
  {
   "cell_type": "code",
   "execution_count": 16,
   "metadata": {
    "collapsed": false
   },
   "outputs": [
    {
     "name": "stdout",
     "output_type": "stream",
     "text": [
      "Layer: SELECT, nfeatures = 1\n",
      "     Field 0 (HEX(AsBinary(GeomFromText('POINT(10 20)')))): [OFTString], ...\n"
     ]
    },
    {
     "data": {
      "text/plain": [
       "false"
      ]
     },
     "execution_count": 16,
     "metadata": {},
     "output_type": "execute_result"
    }
   ],
   "source": [
    "inspect(\"SELECT HEX(AsBinary(GeomFromText('POINT(10 20)')))\")"
   ]
  },
  {
   "cell_type": "code",
   "execution_count": 17,
   "metadata": {
    "collapsed": false
   },
   "outputs": [
    {
     "name": "stdout",
     "output_type": "stream",
     "text": [
      "Layer: SELECT, nfeatures = 1\n",
      "  Geometry 0 (AsText(GeomFromWKB(X'010100000000000000000024400000000000003440'))): [wkbUnknown][1:70]...\n"
     ]
    },
    {
     "data": {
      "text/plain": [
       "false"
      ]
     },
     "execution_count": 17,
     "metadata": {},
     "output_type": "execute_result"
    }
   ],
   "source": [
    "inspect(\"SELECT AsText(GeomFromWKB(X'010100000000000000000024400000000000003440'))\")"
   ]
  },
  {
   "cell_type": "code",
   "execution_count": 27,
   "metadata": {
    "collapsed": false
   },
   "outputs": [
    {
     "name": "stdout",
     "output_type": "stream",
     "text": [
      "Layer: SELECT, nfeatures = 1\n",
      "  Geometry 0 (AsText(Geometry)): [wkbUnknown], LINESTRING (676303.2...)\n",
      "     Field 0 (PK_UID): [OFTInteger], 10\n"
     ]
    },
    {
     "data": {
      "text/plain": [
       "false"
      ]
     },
     "execution_count": 27,
     "metadata": {},
     "output_type": "execute_result"
    }
   ],
   "source": [
    "inspect(\"SELECT PK_UID, AsText(Geometry) FROM HighWays WHERE PK_UID = 10\")"
   ]
  },
  {
   "cell_type": "code",
   "execution_count": 28,
   "metadata": {
    "collapsed": false
   },
   "outputs": [
    {
     "name": "stdout",
     "output_type": "stream",
     "text": [
      "Layer: SELECT, nfeatures = 5\n",
      "     Field 0 (PK_UID): [OFTInteger], 774, 775, 153, 205, 773\n",
      "     Field 1 (NumPoints(Geometry)): [OFTInteger], 6758, 5120, 4325, 3109, ...\n",
      "     Field 2 (GLength(Geometry)): [OFTReal], 94997.87213441564, ...\n",
      "     Field 3 (Dimension(Geometry)): [OFTInteger], 1, 1, 1, 1, 1\n",
      "     Field 4 (GeometryType(Geometry)): [OFTString], LINESTRING, LINESTRING, ...\n"
     ]
    },
    {
     "data": {
      "text/plain": [
       "false"
      ]
     },
     "execution_count": 28,
     "metadata": {},
     "output_type": "execute_result"
    }
   ],
   "source": [
    "inspect(\"\"\"\n",
    "SELECT PK_UID, NumPoints(Geometry), GLength(Geometry),\n",
    "       Dimension(Geometry), GeometryType(Geometry)\n",
    "FROM HighWays ORDER BY NumPoints(Geometry) DESC LIMIT 5\n",
    "\"\"\")"
   ]
  },
  {
   "cell_type": "code",
   "execution_count": 29,
   "metadata": {
    "collapsed": false
   },
   "outputs": [
    {
     "name": "stdout",
     "output_type": "stream",
     "text": [
      "Layer: SELECT, nfeatures = 5\n",
      "  Geometry 0 (AsText(StartPoint(Geometry))): [wkbUnknown]\n",
      "  Geometry 1 (AsText(EndPoint(Geometry))): [wkbUnknown]\n",
      "     Field 0 (PK_UID): [OFTInteger], 774, 775, 153, 205, 773\n",
      "     Field 1 (NumPoints(Geometry)): [OFTInteger], 6758, 5120, 4325, 3109, ...\n",
      "     Field 2 (X(PointN(Geometry, 2))): [OFTReal], 632086.0096648833, ...\n",
      "     Field 3 (Y(PointN(Geometry, 2))): [OFTReal], 4.835625748753577e6, ...\n"
     ]
    },
    {
     "data": {
      "text/plain": [
       "false"
      ]
     },
     "execution_count": 29,
     "metadata": {},
     "output_type": "execute_result"
    }
   ],
   "source": [
    "inspect(\"\"\"\n",
    "SELECT PK_UID, NumPoints(Geometry),\n",
    "       AsText(StartPoint(Geometry)), AsText(EndPoint(Geometry)),\n",
    "       X(PointN(Geometry, 2)), Y(PointN(Geometry, 2))\n",
    "FROM HighWays ORDER BY NumPoints(Geometry) DESC LIMIT 5\n",
    "\"\"\")"
   ]
  },
  {
   "cell_type": "code",
   "execution_count": 30,
   "metadata": {
    "collapsed": false
   },
   "outputs": [
    {
     "name": "stdout",
     "output_type": "stream",
     "text": [
      "Layer: SELECT, nfeatures = 1\n",
      "  Geometry 0 (AsText(Geometry)): [wkbUnknown], MULTIPOLYGON (((7618...)\n",
      "     Field 0 (Name): [OFTString], EMILIA-ROMAGNA\n"
     ]
    },
    {
     "data": {
      "text/plain": [
       "false"
      ]
     },
     "execution_count": 30,
     "metadata": {},
     "output_type": "execute_result"
    }
   ],
   "source": [
    "inspect(\"SELECT name, AsText(Geometry) FROM Regions WHERE PK_UID = 52\")"
   ]
  },
  {
   "cell_type": "code",
   "execution_count": 31,
   "metadata": {
    "collapsed": false
   },
   "outputs": [
    {
     "name": "stdout",
     "output_type": "stream",
     "text": [
      "Layer: SELECT, nfeatures = 5\n",
      "  Geometry 0 (AsText(Centroid(Geometry))): [wkbUnknown], ...\n",
      "     Field 0 (PK_UID): [OFTInteger], 101, 105, 106, 74, 53\n",
      "     Field 1 (Area(Geometry)): [OFTReal], 2.5779695636913013e10, ...\n",
      "     Field 2 (Dimension(Geometry)): [OFTInteger], 2, 2, 2, 2, 2\n",
      "     Field 3 (GeometryType(Geometry)): [OFTString], MULTIPOLYGON, ...\n"
     ]
    },
    {
     "data": {
      "text/plain": [
       "false"
      ]
     },
     "execution_count": 31,
     "metadata": {},
     "output_type": "execute_result"
    }
   ],
   "source": [
    "inspect(\"\"\"\n",
    "SELECT PK_UID, Area(Geometry), AsText(Centroid(Geometry)),\n",
    "       Dimension(Geometry), GeometryType(Geometry)\n",
    "FROM Regions ORDER BY Area(Geometry) DESC LIMIT 5\n",
    "\"\"\")"
   ]
  },
  {
   "cell_type": "code",
   "execution_count": 32,
   "metadata": {
    "collapsed": false
   },
   "outputs": [
    {
     "name": "stdout",
     "output_type": "stream",
     "text": [
      "Layer: SELECT, nfeatures = 5\n",
      "     Field 0 (PK_UID): [OFTInteger], 55, 1, 2, 3, 4\n",
      "     Field 1 (NumInteriorRings(Geometry)): [OFTInteger], 1, 0, 0, 0, 0\n",
      "     Field 2 (NumPoints(ExteriorRing(Geometry))): [OFTInteger], 602, 6, 12, ...\n"
     ]
    },
    {
     "ename": "LoadError",
     "evalue": "LoadError: MethodError: `length` has no method matching length(::Void)\nwhile loading In[32], in expression starting on line 1",
     "output_type": "error",
     "traceback": [
      "LoadError: MethodError: `length` has no method matching length(::Void)\nwhile loading In[32], in expression starting on line 1",
      "",
      " in show at /Users/yeesian/.julia/v0.4/ArchGDAL/src/base/display.jl:126",
      " in print at strings/io.jl:8",
      " in print at strings/io.jl:27",
      " in anonymous at In[7]:5",
      " in executesql at /Users/yeesian/.julia/v0.4/ArchGDAL/src/context.jl:35",
      " in anonymous at In[7]:4",
      " in read at /Users/yeesian/.julia/v0.4/ArchGDAL/src/context.jl:72",
      " in anonymous at In[7]:3",
      " in registerdrivers at /Users/yeesian/.julia/v0.4/ArchGDAL/src/context.jl:12",
      " in inspect at In[7]:2 (repeats 2 times)"
     ]
    }
   ],
   "source": [
    "inspect(\"\"\"\n",
    "SELECT PK_UID, NumInteriorRings(Geometry),\n",
    "       NumPoints(ExteriorRing(Geometry)), NumPoints(InteriorRingN(Geometry, 1))\n",
    "FROM regions ORDER BY NumInteriorRings(Geometry) DESC LIMIT 5\n",
    "\"\"\")"
   ]
  },
  {
   "cell_type": "code",
   "execution_count": 33,
   "metadata": {
    "collapsed": false
   },
   "outputs": [
    {
     "name": "stdout",
     "output_type": "stream",
     "text": [
      "Layer: SELECT, nfeatures = 1\n",
      "  Geometry 0 (AsText(InteriorRingN(Geometry, 1))): [wkbUnknown]\n",
      "  Geometry 1 (AsText(PointN(InteriorRingN(Geometry, 1), 4))): [wkbUnknown]\n",
      "     Field 0 (X(PointN(InteriorRingN(Geometry, 1), 5))): [OFTReal], ...\n",
      "     Field 1 (Y(PointN(InteriorRingN(Geometry, 1), 5))): [OFTReal], ...\n"
     ]
    },
    {
     "data": {
      "text/plain": [
       "false"
      ]
     },
     "execution_count": 33,
     "metadata": {},
     "output_type": "execute_result"
    }
   ],
   "source": [
    "inspect(\"\"\"\n",
    "SELECT AsText(InteriorRingN(Geometry, 1)),\n",
    "       AsText(PointN(InteriorRingN(Geometry, 1), 4)),\n",
    "       X(PointN(InteriorRingN(Geometry, 1), 5)),\n",
    "       Y(PointN(InteriorRingN(Geometry, 1), 5))\n",
    "FROM Regions WHERE PK_UID = 55\n",
    "\"\"\")"
   ]
  },
  {
   "cell_type": "code",
   "execution_count": 34,
   "metadata": {
    "collapsed": false
   },
   "outputs": [
    {
     "name": "stdout",
     "output_type": "stream",
     "text": [
      "Layer: SELECT, nfeatures = 5\n",
      "  Geometry 0 (AsText(Envelope(Geometry))): [wkbUnknown], ...\n",
      "     Field 0 (Name): [OFTString], VENETO, VENETO, VENETO, VENETO, LIGURIA\n"
     ]
    },
    {
     "data": {
      "text/plain": [
       "false"
      ]
     },
     "execution_count": 34,
     "metadata": {},
     "output_type": "execute_result"
    }
   ],
   "source": [
    "inspect(\"\"\"\n",
    "SELECT Name, AsText(Envelope(Geometry)) FROM Regions LIMIT 5\n",
    "\"\"\")"
   ]
  },
  {
   "cell_type": "code",
   "execution_count": null,
   "metadata": {
    "collapsed": true
   },
   "outputs": [],
   "source": []
  }
 ],
 "metadata": {
  "kernelspec": {
   "display_name": "Julia 0.4.6",
   "language": "julia",
   "name": "julia-0.4"
  },
  "language_info": {
   "file_extension": ".jl",
   "mimetype": "application/julia",
   "name": "julia",
   "version": "0.4.6"
  }
 },
 "nbformat": 4,
 "nbformat_minor": 0
}
